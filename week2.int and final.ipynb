{
 "cells": [
  {
   "cell_type": "code",
   "execution_count": 5,
   "id": "7398dc4b",
   "metadata": {},
   "outputs": [],
   "source": [
    "## Import Libraries\n",
    "import sys\n",
    "import os\n",
    "sys.path.append(os.path.abspath(os.path.join('..')))\n",
    "import pandas as pd\n",
    "import seaborn as sns\n",
    "import matplotlib.pyplot as plt\n",
    "import numpy as np \n",
    "from pandas.api.types import is_string_dtype, is_numeric_dtype\n",
    "%matplotlib inline"
   ]
  },
  {
   "cell_type": "code",
   "execution_count": 6,
   "id": "21dd7289",
   "metadata": {},
   "outputs": [],
   "source": [
    "import pandas as pd \n",
    "# Read data from file 'filename.csv' \n",
    "# (in the same directory that your python process is based)\n",
    "# Control delimiters, rows, column names with read_csv (see later) \n",
    "df = pd.read_csv(\"/Users\\Hp\\Downloads/adsmart.csv\")"
   ]
  },
  {
   "cell_type": "code",
   "execution_count": 7,
   "id": "d98b35f7",
   "metadata": {},
   "outputs": [],
   "source": [
    "def read_proccessed_data(csv_path):\n",
    "    try:    \n",
    "        df = pd.read_csv(csv_path)\n",
    "        print(\"file read as csv\")\n",
    "        return df\n",
    "    except FileNotFoundError:\n",
    "        print(\"file not found\")"
   ]
  },
  {
   "cell_type": "code",
   "execution_count": 8,
   "id": "8b5c1881",
   "metadata": {},
   "outputs": [
    {
     "data": {
      "text/html": [
       "<div>\n",
       "<style scoped>\n",
       "    .dataframe tbody tr th:only-of-type {\n",
       "        vertical-align: middle;\n",
       "    }\n",
       "\n",
       "    .dataframe tbody tr th {\n",
       "        vertical-align: top;\n",
       "    }\n",
       "\n",
       "    .dataframe thead th {\n",
       "        text-align: right;\n",
       "    }\n",
       "</style>\n",
       "<table border=\"1\" class=\"dataframe\">\n",
       "  <thead>\n",
       "    <tr style=\"text-align: right;\">\n",
       "      <th></th>\n",
       "      <th>auction_id</th>\n",
       "      <th>experiment</th>\n",
       "      <th>date</th>\n",
       "      <th>hour</th>\n",
       "      <th>device_make</th>\n",
       "      <th>platform_os</th>\n",
       "      <th>browser</th>\n",
       "      <th>yes</th>\n",
       "      <th>no</th>\n",
       "    </tr>\n",
       "  </thead>\n",
       "  <tbody>\n",
       "    <tr>\n",
       "      <th>0</th>\n",
       "      <td>0008ef63-77a7-448b-bd1e-075f42c55e39</td>\n",
       "      <td>exposed</td>\n",
       "      <td>2020-07-10</td>\n",
       "      <td>8</td>\n",
       "      <td>Generic Smartphone</td>\n",
       "      <td>6</td>\n",
       "      <td>Chrome Mobile</td>\n",
       "      <td>0</td>\n",
       "      <td>0</td>\n",
       "    </tr>\n",
       "    <tr>\n",
       "      <th>1</th>\n",
       "      <td>000eabc5-17ce-4137-8efe-44734d914446</td>\n",
       "      <td>exposed</td>\n",
       "      <td>2020-07-07</td>\n",
       "      <td>10</td>\n",
       "      <td>Generic Smartphone</td>\n",
       "      <td>6</td>\n",
       "      <td>Chrome Mobile</td>\n",
       "      <td>0</td>\n",
       "      <td>0</td>\n",
       "    </tr>\n",
       "    <tr>\n",
       "      <th>2</th>\n",
       "      <td>0016d14a-ae18-4a02-a204-6ba53b52f2ed</td>\n",
       "      <td>exposed</td>\n",
       "      <td>2020-07-05</td>\n",
       "      <td>2</td>\n",
       "      <td>E5823</td>\n",
       "      <td>6</td>\n",
       "      <td>Chrome Mobile WebView</td>\n",
       "      <td>0</td>\n",
       "      <td>1</td>\n",
       "    </tr>\n",
       "    <tr>\n",
       "      <th>3</th>\n",
       "      <td>00187412-2932-4542-a8ef-3633901c98d9</td>\n",
       "      <td>control</td>\n",
       "      <td>2020-07-03</td>\n",
       "      <td>15</td>\n",
       "      <td>Samsung SM-A705FN</td>\n",
       "      <td>6</td>\n",
       "      <td>Facebook</td>\n",
       "      <td>0</td>\n",
       "      <td>0</td>\n",
       "    </tr>\n",
       "    <tr>\n",
       "      <th>4</th>\n",
       "      <td>001a7785-d3fe-4e11-a344-c8735acacc2c</td>\n",
       "      <td>control</td>\n",
       "      <td>2020-07-03</td>\n",
       "      <td>15</td>\n",
       "      <td>Generic Smartphone</td>\n",
       "      <td>6</td>\n",
       "      <td>Chrome Mobile</td>\n",
       "      <td>0</td>\n",
       "      <td>0</td>\n",
       "    </tr>\n",
       "    <tr>\n",
       "      <th>...</th>\n",
       "      <td>...</td>\n",
       "      <td>...</td>\n",
       "      <td>...</td>\n",
       "      <td>...</td>\n",
       "      <td>...</td>\n",
       "      <td>...</td>\n",
       "      <td>...</td>\n",
       "      <td>...</td>\n",
       "      <td>...</td>\n",
       "    </tr>\n",
       "    <tr>\n",
       "      <th>8072</th>\n",
       "      <td>ffea24ec-cec1-43fb-b1d1-8f93828c2be2</td>\n",
       "      <td>exposed</td>\n",
       "      <td>2020-07-05</td>\n",
       "      <td>7</td>\n",
       "      <td>Generic Smartphone</td>\n",
       "      <td>6</td>\n",
       "      <td>Chrome Mobile</td>\n",
       "      <td>0</td>\n",
       "      <td>0</td>\n",
       "    </tr>\n",
       "    <tr>\n",
       "      <th>8073</th>\n",
       "      <td>ffea3210-2c3e-426f-a77d-0aa72e73b20f</td>\n",
       "      <td>control</td>\n",
       "      <td>2020-07-03</td>\n",
       "      <td>15</td>\n",
       "      <td>Generic Smartphone</td>\n",
       "      <td>6</td>\n",
       "      <td>Chrome Mobile</td>\n",
       "      <td>0</td>\n",
       "      <td>0</td>\n",
       "    </tr>\n",
       "    <tr>\n",
       "      <th>8074</th>\n",
       "      <td>ffeaa0f1-1d72-4ba9-afb4-314b3b00a7c7</td>\n",
       "      <td>control</td>\n",
       "      <td>2020-07-04</td>\n",
       "      <td>9</td>\n",
       "      <td>Generic Smartphone</td>\n",
       "      <td>6</td>\n",
       "      <td>Chrome Mobile</td>\n",
       "      <td>0</td>\n",
       "      <td>0</td>\n",
       "    </tr>\n",
       "    <tr>\n",
       "      <th>8075</th>\n",
       "      <td>ffeeed62-3f7c-4a6e-8ba7-95d303d40969</td>\n",
       "      <td>exposed</td>\n",
       "      <td>2020-07-05</td>\n",
       "      <td>15</td>\n",
       "      <td>Samsung SM-A515F</td>\n",
       "      <td>6</td>\n",
       "      <td>Samsung Internet</td>\n",
       "      <td>0</td>\n",
       "      <td>0</td>\n",
       "    </tr>\n",
       "    <tr>\n",
       "      <th>8076</th>\n",
       "      <td>fffbb9ff-568a-41a5-a0c3-6866592f80d8</td>\n",
       "      <td>control</td>\n",
       "      <td>2020-07-10</td>\n",
       "      <td>14</td>\n",
       "      <td>Samsung SM-G960F</td>\n",
       "      <td>6</td>\n",
       "      <td>Facebook</td>\n",
       "      <td>0</td>\n",
       "      <td>0</td>\n",
       "    </tr>\n",
       "  </tbody>\n",
       "</table>\n",
       "<p>8077 rows × 9 columns</p>\n",
       "</div>"
      ],
      "text/plain": [
       "                                auction_id experiment        date  hour  \\\n",
       "0     0008ef63-77a7-448b-bd1e-075f42c55e39    exposed  2020-07-10     8   \n",
       "1     000eabc5-17ce-4137-8efe-44734d914446    exposed  2020-07-07    10   \n",
       "2     0016d14a-ae18-4a02-a204-6ba53b52f2ed    exposed  2020-07-05     2   \n",
       "3     00187412-2932-4542-a8ef-3633901c98d9    control  2020-07-03    15   \n",
       "4     001a7785-d3fe-4e11-a344-c8735acacc2c    control  2020-07-03    15   \n",
       "...                                    ...        ...         ...   ...   \n",
       "8072  ffea24ec-cec1-43fb-b1d1-8f93828c2be2    exposed  2020-07-05     7   \n",
       "8073  ffea3210-2c3e-426f-a77d-0aa72e73b20f    control  2020-07-03    15   \n",
       "8074  ffeaa0f1-1d72-4ba9-afb4-314b3b00a7c7    control  2020-07-04     9   \n",
       "8075  ffeeed62-3f7c-4a6e-8ba7-95d303d40969    exposed  2020-07-05    15   \n",
       "8076  fffbb9ff-568a-41a5-a0c3-6866592f80d8    control  2020-07-10    14   \n",
       "\n",
       "             device_make  platform_os                browser  yes  no  \n",
       "0     Generic Smartphone            6          Chrome Mobile    0   0  \n",
       "1     Generic Smartphone            6          Chrome Mobile    0   0  \n",
       "2                  E5823            6  Chrome Mobile WebView    0   1  \n",
       "3      Samsung SM-A705FN            6               Facebook    0   0  \n",
       "4     Generic Smartphone            6          Chrome Mobile    0   0  \n",
       "...                  ...          ...                    ...  ...  ..  \n",
       "8072  Generic Smartphone            6          Chrome Mobile    0   0  \n",
       "8073  Generic Smartphone            6          Chrome Mobile    0   0  \n",
       "8074  Generic Smartphone            6          Chrome Mobile    0   0  \n",
       "8075    Samsung SM-A515F            6       Samsung Internet    0   0  \n",
       "8076    Samsung SM-G960F            6               Facebook    0   0  \n",
       "\n",
       "[8077 rows x 9 columns]"
      ]
     },
     "execution_count": 8,
     "metadata": {},
     "output_type": "execute_result"
    }
   ],
   "source": [
    "df\n"
   ]
  },
  {
   "cell_type": "code",
   "execution_count": 9,
   "id": "704457ed",
   "metadata": {},
   "outputs": [],
   "source": [
    "## getting number of columns, row and column information\n",
    "def get_data_info(SAd_df: pd.DataFrame):\n",
    "    \n",
    "    row_count, col_count = SAd_df.shape\n",
    "    \n",
    "    print(f\"Number of rows: {row_count}\")\n",
    "    print(f\"Number of columns: {col_count}\")\n",
    "\n",
    "    return SAd_df.info()"
   ]
  },
  {
   "cell_type": "code",
   "execution_count": 10,
   "id": "414dc715",
   "metadata": {},
   "outputs": [],
   "source": [
    "## basic statistics of each column and see the data at glance\n",
    "def get_statistics_info(SAd_df: pd.DataFrame):\n",
    "    \n",
    "    return SAd_df.describe(include='all')"
   ]
  },
  {
   "cell_type": "code",
   "execution_count": 11,
   "id": "9d66e65e",
   "metadata": {},
   "outputs": [
    {
     "name": "stdout",
     "output_type": "stream",
     "text": [
      "file read as csv\n",
      "Number of rows: 8077\n",
      "Number of columns: 9\n",
      "<class 'pandas.core.frame.DataFrame'>\n",
      "RangeIndex: 8077 entries, 0 to 8076\n",
      "Data columns (total 9 columns):\n",
      " #   Column       Non-Null Count  Dtype \n",
      "---  ------       --------------  ----- \n",
      " 0   auction_id   8077 non-null   object\n",
      " 1   experiment   8077 non-null   object\n",
      " 2   date         8077 non-null   object\n",
      " 3   hour         8077 non-null   int64 \n",
      " 4   device_make  8077 non-null   object\n",
      " 5   platform_os  8077 non-null   int64 \n",
      " 6   browser      8077 non-null   object\n",
      " 7   yes          8077 non-null   int64 \n",
      " 8   no           8077 non-null   int64 \n",
      "dtypes: int64(4), object(5)\n",
      "memory usage: 568.0+ KB\n"
     ]
    },
    {
     "data": {
      "text/html": [
       "<div>\n",
       "<style scoped>\n",
       "    .dataframe tbody tr th:only-of-type {\n",
       "        vertical-align: middle;\n",
       "    }\n",
       "\n",
       "    .dataframe tbody tr th {\n",
       "        vertical-align: top;\n",
       "    }\n",
       "\n",
       "    .dataframe thead th {\n",
       "        text-align: right;\n",
       "    }\n",
       "</style>\n",
       "<table border=\"1\" class=\"dataframe\">\n",
       "  <thead>\n",
       "    <tr style=\"text-align: right;\">\n",
       "      <th></th>\n",
       "      <th>auction_id</th>\n",
       "      <th>experiment</th>\n",
       "      <th>date</th>\n",
       "      <th>hour</th>\n",
       "      <th>device_make</th>\n",
       "      <th>platform_os</th>\n",
       "      <th>browser</th>\n",
       "      <th>yes</th>\n",
       "      <th>no</th>\n",
       "    </tr>\n",
       "  </thead>\n",
       "  <tbody>\n",
       "    <tr>\n",
       "      <th>0</th>\n",
       "      <td>0008ef63-77a7-448b-bd1e-075f42c55e39</td>\n",
       "      <td>exposed</td>\n",
       "      <td>2020-07-10</td>\n",
       "      <td>8</td>\n",
       "      <td>Generic Smartphone</td>\n",
       "      <td>6</td>\n",
       "      <td>Chrome Mobile</td>\n",
       "      <td>0</td>\n",
       "      <td>0</td>\n",
       "    </tr>\n",
       "    <tr>\n",
       "      <th>1</th>\n",
       "      <td>000eabc5-17ce-4137-8efe-44734d914446</td>\n",
       "      <td>exposed</td>\n",
       "      <td>2020-07-07</td>\n",
       "      <td>10</td>\n",
       "      <td>Generic Smartphone</td>\n",
       "      <td>6</td>\n",
       "      <td>Chrome Mobile</td>\n",
       "      <td>0</td>\n",
       "      <td>0</td>\n",
       "    </tr>\n",
       "    <tr>\n",
       "      <th>2</th>\n",
       "      <td>0016d14a-ae18-4a02-a204-6ba53b52f2ed</td>\n",
       "      <td>exposed</td>\n",
       "      <td>2020-07-05</td>\n",
       "      <td>2</td>\n",
       "      <td>E5823</td>\n",
       "      <td>6</td>\n",
       "      <td>Chrome Mobile WebView</td>\n",
       "      <td>0</td>\n",
       "      <td>1</td>\n",
       "    </tr>\n",
       "    <tr>\n",
       "      <th>3</th>\n",
       "      <td>00187412-2932-4542-a8ef-3633901c98d9</td>\n",
       "      <td>control</td>\n",
       "      <td>2020-07-03</td>\n",
       "      <td>15</td>\n",
       "      <td>Samsung SM-A705FN</td>\n",
       "      <td>6</td>\n",
       "      <td>Facebook</td>\n",
       "      <td>0</td>\n",
       "      <td>0</td>\n",
       "    </tr>\n",
       "    <tr>\n",
       "      <th>4</th>\n",
       "      <td>001a7785-d3fe-4e11-a344-c8735acacc2c</td>\n",
       "      <td>control</td>\n",
       "      <td>2020-07-03</td>\n",
       "      <td>15</td>\n",
       "      <td>Generic Smartphone</td>\n",
       "      <td>6</td>\n",
       "      <td>Chrome Mobile</td>\n",
       "      <td>0</td>\n",
       "      <td>0</td>\n",
       "    </tr>\n",
       "  </tbody>\n",
       "</table>\n",
       "</div>"
      ],
      "text/plain": [
       "                             auction_id experiment        date  hour  \\\n",
       "0  0008ef63-77a7-448b-bd1e-075f42c55e39    exposed  2020-07-10     8   \n",
       "1  000eabc5-17ce-4137-8efe-44734d914446    exposed  2020-07-07    10   \n",
       "2  0016d14a-ae18-4a02-a204-6ba53b52f2ed    exposed  2020-07-05     2   \n",
       "3  00187412-2932-4542-a8ef-3633901c98d9    control  2020-07-03    15   \n",
       "4  001a7785-d3fe-4e11-a344-c8735acacc2c    control  2020-07-03    15   \n",
       "\n",
       "          device_make  platform_os                browser  yes  no  \n",
       "0  Generic Smartphone            6          Chrome Mobile    0   0  \n",
       "1  Generic Smartphone            6          Chrome Mobile    0   0  \n",
       "2               E5823            6  Chrome Mobile WebView    0   1  \n",
       "3   Samsung SM-A705FN            6               Facebook    0   0  \n",
       "4  Generic Smartphone            6          Chrome Mobile    0   0  "
      ]
     },
     "execution_count": 11,
     "metadata": {},
     "output_type": "execute_result"
    }
   ],
   "source": [
    "# reading the extracted tweeter data and getting information\n",
    "\n",
    "SAd_df = read_proccessed_data(\"/Users\\Hp\\Downloads/adsmart.csv\")\n",
    "get_data_info(SAd_df)\n",
    "\n",
    "get_statistics_info(SAd_df)\n",
    "SAd_df.head()"
   ]
  },
  {
   "cell_type": "code",
   "execution_count": 12,
   "id": "af990245",
   "metadata": {},
   "outputs": [
    {
     "data": {
      "text/plain": [
       "<AxesSubplot:>"
      ]
     },
     "execution_count": 12,
     "metadata": {},
     "output_type": "execute_result"
    },
    {
     "data": {
      "image/png": "[encoded data removed]",
      "text/plain": [
       "<Figure size 1130.4x595.44 with 1 Axes>"
      ]
     },
     "metadata": {},
     "output_type": "display_data"
    }
   ],
   "source": [
    "sns.set(rc={'figure.figsize':(15.7,8.27)})\n",
    "sns.heatmap(SAd_df.isnull(),yticklabels=False,cbar=False,cmap='viridis')"
   ]
  },
  {
   "cell_type": "markdown",
   "id": "c5111cd1",
   "metadata": {},
   "source": [
    "##This shows the dataset doesn't have any missing value."
   ]
  },
  {
   "cell_type": "code",
   "execution_count": 13,
   "id": "cc86783f",
   "metadata": {},
   "outputs": [],
   "source": [
    "def percent_missing(df):\n",
    "\n",
    "    totalCells = np.product(df.shape)\n",
    "    missingCount = df.isnull().sum()\n",
    "    totalMissing = missingCount.sum()\n",
    "    return round((totalMissing / totalCells) * 100, 2)"
   ]
  },
  {
   "cell_type": "code",
   "execution_count": 14,
   "id": "8a677d7b",
   "metadata": {},
   "outputs": [
    {
     "name": "stdout",
     "output_type": "stream",
     "text": [
      "The Ad Smart AB data dataset contains 0.0 % missing values.\n"
     ]
    }
   ],
   "source": [
    "print(\"The Ad Smart AB data dataset contains\", percent_missing(SAd_df), \"%\", \"missing values.\")"
   ]
  },
  {
   "cell_type": "code",
   "execution_count": 15,
   "id": "402bb4c2",
   "metadata": {},
   "outputs": [
    {
     "name": "stdout",
     "output_type": "stream",
     "text": [
      "The number of entries in the control group is 4071\n",
      "The number of entries in the experiment group is 4006\n"
     ]
    }
   ],
   "source": [
    "contorl_num = SAd_df.groupby('experiment').agg({'auction_id': 'count'})['auction_id']['control']\n",
    "exposed_num  = SAd_df.groupby('experiment').agg({'auction_id': 'count'})['auction_id']['exposed']\n",
    "\n",
    "print(f\"The number of entries in the control group is {contorl_num}\")\n",
    "print(f\"The number of entries in the experiment group is {exposed_num}\")"
   ]
  },
  {
   "cell_type": "code",
   "execution_count": 16,
   "id": "756b82c5",
   "metadata": {},
   "outputs": [
    {
     "name": "stdout",
     "output_type": "stream",
     "text": [
      "the number of users that did not respond is 6834 \n",
      "the percentage of users that did not respond is 84.61062275597375% \n"
     ]
    }
   ],
   "source": [
    "not_ans_df = SAd_df.query(\"yes == 0 & no == 0\")\n",
    "print(f\"the number of users that did not respond is {not_ans_df.shape[0]} \")\n",
    "print(f\"the percentage of users that did not respond is {(not_ans_df.shape[0] / SAd_df.shape[0]) * 100}% \")"
   ]
  },
  {
   "cell_type": "code",
   "execution_count": 17,
   "id": "3ede99ee",
   "metadata": {},
   "outputs": [
    {
     "name": "stdout",
     "output_type": "stream",
     "text": [
      "the number of users that did not respond in the exposed group is 3349 \n",
      "the number of users that did  respond yes in the exposed group is 308 \n",
      "the percentage of users that did not respond in the exposed grou is 83.59960059910134% \n"
     ]
    }
   ],
   "source": [
    "Ex_df=SAd_df.query(\"experiment=='exposed'\")\n",
    "EX_not_ans_df = Ex_df.query(\"yes == 0 & no == 0\")\n",
    "EX_Yes_ans_df=Ex_df.query(\"yes == 1\")\n",
    "print(f\"the number of users that did not respond in the exposed group is {EX_not_ans_df.shape[0]} \")\n",
    "print(f\"the number of users that did  respond yes in the exposed group is {EX_Yes_ans_df.shape[0]} \")\n",
    "Xexp=EX_Yes_ans_df.shape[0]\n",
    "print(f\"the percentage of users that did not respond in the exposed grou is {(EX_not_ans_df.shape[0] / Ex_df.shape[0]) * 100}% \")"
   ]
  },
  {
   "cell_type": "code",
   "execution_count": 18,
   "id": "1b967e20",
   "metadata": {},
   "outputs": [
    {
     "name": "stdout",
     "output_type": "stream",
     "text": [
      "the number of users that did not respond in the control group is 3485 \n",
      "the number of users that did  respond yes in the Control group is 264 \n",
      "the percentage of users that did not respond in the control group is 85.60550233357898% \n"
     ]
    }
   ],
   "source": [
    "Co_df=SAd_df.query(\"experiment=='control'\")\n",
    "Co_not_ans_df = Co_df.query(\"yes == 0 & no == 0\")\n",
    "Co_Yes_ans_df=Co_df.query(\"yes == 1\")\n",
    "print(f\"the number of users that did not respond in the control group is {Co_not_ans_df.shape[0]} \")\n",
    "print(f\"the number of users that did  respond yes in the Control group is {Co_Yes_ans_df.shape[0]} \")\n",
    "Xcon=Co_Yes_ans_df.shape[0]\n",
    "print(f\"the percentage of users that did not respond in the control group is {(Co_not_ans_df.shape[0] / Co_df.shape[0]) * 100}% \")"
   ]
  },
  {
   "cell_type": "markdown",
   "id": "e78a5d5d",
   "metadata": {},
   "source": [
    "#Since the percentage of the number of users that did't respond for both groups have the same proportion we can work on the ones who gives a response.¶"
   ]
  },
  {
   "cell_type": "code",
   "execution_count": 21,
   "id": "71b4437e",
   "metadata": {},
   "outputs": [],
   "source": [
    "RSAd_df = SAd_df.query(\"not (yes == 0 & no == 0)\")\n",
    "RSAd_df.shape\n",
    "Npool=RSAd_df.shape[0]"
   ]
  },
  {
   "cell_type": "code",
   "execution_count": 22,
   "id": "4fbd45e9",
   "metadata": {},
   "outputs": [],
   "source": [
    "Co_Yes_ans_df=Co_df.query(\"yes == 1\")"
   ]
  },
  {
   "cell_type": "code",
   "execution_count": 23,
   "id": "ffca97da",
   "metadata": {},
   "outputs": [
    {
     "data": {
      "text/plain": [
       "auction_id     1243\n",
       "experiment        2\n",
       "date              8\n",
       "hour             24\n",
       "device_make     115\n",
       "platform_os       2\n",
       "browser           8\n",
       "yes               2\n",
       "no                2\n",
       "dtype: int64"
      ]
     },
     "execution_count": 23,
     "metadata": {},
     "output_type": "execute_result"
    }
   ],
   "source": [
    "#get unique values of each column\n",
    "RSAd_df.nunique()"
   ]
  },
  {
   "cell_type": "code",
   "execution_count": 24,
   "id": "2c805c16",
   "metadata": {},
   "outputs": [],
   "source": [
    "# plotting functions\n",
    "def plot_hist(df:pd.DataFrame, column:str, color:str)->None:\n",
    "    plt.figure(figsize=(9, 7))\n",
    "    sns.displot(data=df, x=column, color=color, kde=True, height=7, aspect=2)\n",
    "    plt.title(f'Distribution of {column}', size=20, fontweight='bold')\n",
    "    \n",
    "\n",
    "def plot_dist(df:pd.DataFrame, column:str):\n",
    "    plt.figure(figsize=(9,7))\n",
    "    sns.distplot(df).set_title(f'Distribution of {column}')\n",
    "    \n",
    "\n",
    "\n",
    "def plot_count(df:pd.DataFrame, column:str) -> None:\n",
    "    plt.figure(figsize=(12, 7))\n",
    "    sns.countplot(data=df, x=column)\n",
    "    plt.title(f'Plot count of {column}', size=20, fontweight='bold')\n",
    "def plot_count2(df:pd.DataFrame, column:str) -> None:\n",
    "    plt.figure(figsize=(12, 7))\n",
    "    plt.xticks(rotation=90)\n",
    "    sns.countplot(data=df, x=column)\n",
    "    plt.title(f'Plot count of {column}', size=20, fontweight='bold')\n",
    "    \n",
    "def plot_bar(df:pd.DataFrame, x_col:str, y_col:str, title:str, xlabel:str, ylabel:str)->None:\n",
    "    plt.figure(figsize=(12, 7))\n",
    "    sns.barplot(data = df, x=x_col, y=y_col)\n",
    "    plt.title(title, size=20)\n",
    "    plt.xticks(rotation=75, fontsize=14)\n",
    "    plt.yticks( fontsize=14)\n",
    "    plt.xlabel(xlabel, fontsize=16)\n",
    "    plt.ylabel(ylabel, fontsize=16)\n",
    "    \n",
    "\n",
    "def plot_heatmap(df:pd.DataFrame, title:str, cbar=False)->None:\n",
    "    plt.figure(figsize=(12, 7))\n",
    "    sns.heatmap(df, annot=True, cmap='viridis', vmin=0, vmax=1, fmt='.2f', linewidths=.7, cbar=cbar )\n",
    "    plt.title(title, size=18, fontweight='bold')\n",
    "    \n",
    "\n",
    "def plot_box(df:pd.DataFrame, x_col:str, title:str) -> None:\n",
    "    plt.figure(figsize=(12, 7))\n",
    "    sns.boxplot(data = df, x=x_col)\n",
    "    plt.title(title, size=20)\n",
    "    plt.xticks(rotation=75, fontsize=14)\n",
    "    \n",
    "def plot_box_multi(df:pd.DataFrame, x_col:str, y_col:str, title:str) -> None:\n",
    "    plt.figure(figsize=(12, 7))\n",
    "    sns.boxplot(data = df, x=x_col, y=y_col)\n",
    "    plt.title(title, size=20)\n",
    "    plt.xticks(rotation=75, fontsize=14)\n",
    "    plt.yticks( fontsize=14)\n",
    "    \n",
    "def plot_scatter(df: pd.DataFrame, x_col: str, y_col: str, title: str, hue: str, style: str) -> None:\n",
    "    plt.figure(figsize=(10, 8))\n",
    "    sns.scatterplot(data = df, x=x_col, y=y_col, hue=hue, style=style)\n",
    "    plt.title(title, size=20)\n",
    "    plt.xticks(fontsize=14)\n",
    "    plt.yticks( fontsize=14)"
   ]
  },
  {
   "cell_type": "code",
   "execution_count": 25,
   "id": "ff34ea56",
   "metadata": {},
   "outputs": [
    {
     "data": {
      "image/png": "[encoded data removed]",
      "text/plain": [
       "<Figure size 1130.4x595.44 with 1 Axes>"
      ]
     },
     "metadata": {},
     "output_type": "display_data"
    }
   ],
   "source": [
    "sums = RSAd_df[\"yes\"].groupby(RSAd_df.experiment).sum()\n",
    "plt.title(\"experiment group users awre of the brand count\")\n",
    "plt.pie(sums, labels=sums.index);"
   ]
  },
  {
   "cell_type": "markdown",
   "id": "dfa76ec6",
   "metadata": {},
   "source": [
    "#The exposed group seems to have slightly more counts of yes than the exposed group."
   ]
  },
  {
   "cell_type": "code",
   "execution_count": 26,
   "id": "eb21a606",
   "metadata": {},
   "outputs": [
    {
     "data": {
      "image/png": "[encoded data removed]",
      "text/plain": [
       "<Figure size 864x504 with 1 Axes>"
      ]
     },
     "metadata": {},
     "output_type": "display_data"
    }
   ],
   "source": [
    "plot_count( RSAd_df,\"date\")"
   ]
  },
  {
   "cell_type": "markdown",
   "id": "155eec77",
   "metadata": {},
   "source": [
    "#users where more engaged on 2020-07-03"
   ]
  },
  {
   "cell_type": "code",
   "execution_count": 27,
   "id": "b7666265",
   "metadata": {},
   "outputs": [
    {
     "data": {
      "image/png": "[encoded data removed]",
      "text/plain": [
       "<Figure size 864x504 with 1 Axes>"
      ]
     },
     "metadata": {},
     "output_type": "display_data"
    }
   ],
   "source": [
    "plot_count( RSAd_df,\"hour\")"
   ]
  },
  {
   "cell_type": "markdown",
   "id": "51f9c260",
   "metadata": {},
   "source": [
    "#more users are enged on the hour of 15"
   ]
  },
  {
   "cell_type": "code",
   "execution_count": 29,
   "id": "7e8ff112",
   "metadata": {},
   "outputs": [
    {
     "data": {
      "image/png": "[encoded data removed]",
      "text/plain": [
       "<Figure size 864x504 with 1 Axes>"
      ]
     },
     "metadata": {},
     "output_type": "display_data"
    }
   ],
   "source": [
    "plot_count2( RSAd_df,\"browser\")"
   ]
  },
  {
   "cell_type": "markdown",
   "id": "bb44ff75",
   "metadata": {},
   "source": [
    "#users were more angaged on the chrome browser"
   ]
  },
  {
   "cell_type": "code",
   "execution_count": 30,
   "id": "9daa9d06",
   "metadata": {},
   "outputs": [
    {
     "name": "stdout",
     "output_type": "stream",
     "text": [
      "the number of users that did  respond  in the Control group is 586 \n"
     ]
    }
   ],
   "source": [
    "RCo_df=RSAd_df.query(\"experiment=='control'\")\n",
    "Nco=RCo_df.shape[0]\n",
    "print(f\"the number of users that did  respond  in the Control group is {RCo_df.shape[0]} \")"
   ]
  },
  {
   "cell_type": "code",
   "execution_count": 31,
   "id": "cd4b2e84",
   "metadata": {},
   "outputs": [
    {
     "name": "stdout",
     "output_type": "stream",
     "text": [
      "the number of users that did  respond  in the Exposed group is 657 \n"
     ]
    }
   ],
   "source": [
    "REx_df=RSAd_df.query(\"experiment=='exposed'\")\n",
    "Nex=REx_df.shape[0]\n",
    "print(f\"the number of users that did  respond  in the Exposed group is {REx_df.shape[0]} \")"
   ]
  },
  {
   "cell_type": "code",
   "execution_count": 32,
   "id": "84e436d1",
   "metadata": {},
   "outputs": [
    {
     "name": "stdout",
     "output_type": "stream",
     "text": [
      "1243 657 586\n",
      "308 264\n"
     ]
    }
   ],
   "source": [
    "print(Npool,Nex,Nco)\n",
    "print(Xexp,Xcon)"
   ]
  },
  {
   "cell_type": "markdown",
   "id": "70dab45a",
   "metadata": {},
   "source": [
    "#Classic A/B testing analysis Null hypothesis: there is no significant difference in brand awareness between the exposed and control groups in the current case Alternate hypothesis: there is a significant difference in brand awareness between the exposed and control groups in the current case with an assumptiono of this two\n",
    "\n",
    "form the bussiness perspective lets say a 2% brand awarenes increase would# be practically significant.dmin=0.02\n",
    "and have a confidence level of 95% Ho:d=0 d~N(0,SEpool) If d>1.96SEpool or d<-1.96SEpool Reject the null"
   ]
  },
  {
   "cell_type": "code",
   "execution_count": 33,
   "id": "73f15515",
   "metadata": {},
   "outputs": [
    {
     "name": "stdout",
     "output_type": "stream",
     "text": [
      "0.46017699115044247\n"
     ]
    }
   ],
   "source": [
    "Ppool=(Xcon+Xexp)/Npool\n",
    "print(Ppool)"
   ]
  },
  {
   "cell_type": "code",
   "execution_count": 34,
   "id": "d9dc9bf3",
   "metadata": {},
   "outputs": [
    {
     "name": "stdout",
     "output_type": "stream",
     "text": [
      "0.028319932727228023\n"
     ]
    }
   ],
   "source": [
    "import math\n",
    "#Pool standard error\n",
    "SEpool=math.sqrt(Ppool*(1-Ppool)*((1/Nco)+(1/Nex)))\n",
    "print(SEpool)"
   ]
  },
  {
   "cell_type": "code",
   "execution_count": 35,
   "id": "688d0a1f",
   "metadata": {},
   "outputs": [
    {
     "name": "stdout",
     "output_type": "stream",
     "text": [
      "0.018285619295484168\n"
     ]
    }
   ],
   "source": [
    "## diference between Pexp and Pcon\n",
    "d=Xexp/Nex-Xcon/Nco\n",
    "print(d)"
   ]
  },
  {
   "cell_type": "code",
   "execution_count": 36,
   "id": "feae7be1",
   "metadata": {},
   "outputs": [
    {
     "name": "stdout",
     "output_type": "stream",
     "text": [
      "0.055507068145366927\n"
     ]
    }
   ],
   "source": [
    "#margin of error\n",
    "m=1.96*SEpool\n",
    "print(m)"
   ]
  },
  {
   "cell_type": "code",
   "execution_count": 37,
   "id": "5fb840b0",
   "metadata": {},
   "outputs": [
    {
     "name": "stdout",
     "output_type": "stream",
     "text": [
      "-0.03722144884988276 0.0737926874408511\n"
     ]
    }
   ],
   "source": [
    "lb=d-m\n",
    "ub=d+m\n",
    "print(lb,ub)"
   ]
  },
  {
   "cell_type": "markdown",
   "id": "a28ffac8",
   "metadata": {},
   "source": [
    "#From this output that we can say we dont have enough power to draw a conclusion we need more data to reach a conclusion.\n",
    "\n"
   ]
  },
  {
   "cell_type": "code",
   "execution_count": null,
   "id": "9e8dfb85",
   "metadata": {},
   "outputs": [],
   "source": []
  }
 ],
 "metadata": {
  "kernelspec": {
   "display_name": "Python 3",
   "language": "python",
   "name": "python3"
  },
  "language_info": {
   "codemirror_mode": {
    "name": "ipython",
    "version": 3
   },
   "file_extension": ".py",
   "mimetype": "text/x-python",
   "name": "python",
   "nbconvert_exporter": "python",
   "pygments_lexer": "ipython3",
   "version": "3.8.8"
  }
 },
 "nbformat": 4,
 "nbformat_minor": 5
}
